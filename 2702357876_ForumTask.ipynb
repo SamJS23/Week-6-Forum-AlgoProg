{
 "cells": [
  {
   "cell_type": "code",
   "execution_count": 2,
   "id": "7c1cc1ab-6105-47df-b1ec-adc1fa4699be",
   "metadata": {},
   "outputs": [
    {
     "name": "stdout",
     "output_type": "stream",
     "text": [
      "name: Lloyd\n",
      "homework: [90.0, 97.0, 75.0, 92.0]\n",
      "quizzes: [88.0, 40.0, 94.0]\n",
      "tests: [75.0, 90.0]\n",
      "name: Alice\n",
      "homework: [100.0, 92.0, 98.0, 100.0]\n",
      "quizzes: [82.0, 83.0, 91.0]\n",
      "tests: [89.0, 97.0]\n",
      "name: Tyler\n",
      "homework: [0.0, 87.0, 75.0, 22.0]\n",
      "quizzes: [0.0, 75.0, 78.0]\n",
      "tests: [100.0, 100.0]\n",
      "Lloyd's letter grade B\n",
      "class average: 83.86666666666666\n",
      "class average letter grade: B\n"
     ]
    }
   ],
   "source": [
    "#Task 1\n",
    "lloyd = {\n",
    " \"name\": \"Lloyd\",\n",
    " \"homework\": [90.0,97.0,75.0,92.0],\n",
    " \"quizzes\": [88.0,40.0,94.0],\n",
    " \"tests\": [75.0,90.0]\n",
    "}\n",
    "alice = {\n",
    " \"name\": \"Alice\",\n",
    " \"homework\": [100.0, 92.0, 98.0, 100.0],\n",
    " \"quizzes\": [82.0, 83.0, 91.0],\n",
    " \"tests\": [89.0, 97.0]\n",
    "}\n",
    "tyler = {\n",
    " \"name\": \"Tyler\",\n",
    " \"homework\": [0.0, 87.0, 75.0, 22.0],\n",
    " \"quizzes\": [0.0, 75.0, 78.0],\n",
    " \"tests\": [100.0, 100.0]\n",
    "}\n",
    "students = []\n",
    "students.append(lloyd)\n",
    "students.append(alice)\n",
    "students.append(tyler)\n",
    "\n",
    "for s in students:\n",
    "    print(f'name: {s[\"name\"]}')\n",
    "    print(f'homework: {s[\"homework\"]}')\n",
    "    print(f'quizzes: {s[\"quizzes\"]}')\n",
    "    print(f'tests: {s[\"tests\"]}')\n",
    "\n",
    "def average(numbers):\n",
    "    total = float(sum(numbers))\n",
    "    average = total/len(numbers)\n",
    "    return average\n",
    "\n",
    "def get_average(student):\n",
    "    homework = average(student[\"homework\"])\n",
    "    quizzes = average(student[\"quizzes\"])\n",
    "    tests = average(student[\"tests\"])\n",
    "    weighted_average = (homework * 0.1) + (quizzes * 0.3) + (tests * 0.6)\n",
    "    return weighted_average\n",
    "\n",
    "def get_letter_grade(score):\n",
    "    if score >= 90:\n",
    "        return \"A\"\n",
    "    elif score >= 80:\n",
    "        return \"B\"\n",
    "    elif score >= 70:\n",
    "        return \"C\"\n",
    "    elif score >= 60:\n",
    "        return \"D\"\n",
    "    else:\n",
    "        return \"F\"\n",
    "print(F\"Lloyd's letter grade {get_letter_grade(get_average(lloyd))}\")\n",
    "\n",
    "def get_class_average(students):\n",
    "    results = []\n",
    "    for student in students:\n",
    "        student_average = get_average(student)\n",
    "        results.append(student_average)\n",
    "    class_average = average(results)\n",
    "    return class_average\n",
    "print(f'class average: {get_class_average(students)}')\n",
    "print(f'class average letter grade: {get_letter_grade(get_class_average(students))}')"
   ]
  },
  {
   "cell_type": "code",
   "execution_count": 3,
   "id": "7bf9af1a-06d0-452d-adea-3e2bce457f11",
   "metadata": {},
   "outputs": [
    {
     "name": "stdout",
     "output_type": "stream",
     "text": [
      "The course details are: Course Name: Programming Concepts Instructor: Z. Beasley Class times: MW 12:30pm – 1:45pm\n"
     ]
    }
   ],
   "source": [
    "#Task 2\n",
    "cn = (\"COP 2510\", \"EGN 3000L\", \"MAC 2281\", \"MUH 3016\", \"PHY 2048\")\n",
    "course_name = {\n",
    "    cn[0]: \"Programming Concepts\",\n",
    "    cn[1]: \"Foundations of Engineering Lab\",\n",
    "    cn[2]: \"Calculus I\",\n",
    "    cn[3]: \"Survey of Jazz\",\n",
    "    cn[4]: \"General Physics I\"\n",
    "}\n",
    "instructor = {\n",
    "    cn[0]: \"Z. Beasley\",\n",
    "    cn[1]: \"J. Anderson\",\n",
    "    cn[2]: \"A. Makaryus\",\n",
    "    cn[3]: \"A. Wilkins\",\n",
    "    cn[4]: \"G. Pradhan\"\n",
    "}\n",
    "times = {\n",
    "    cn[0]: \"MW 12:30pm – 1:45pm\",\n",
    "    cn[1]: \"TR 11:00am – 12:15pm\",\n",
    "    cn[2]: \"MW 9:30am – 10:45am\",\n",
    "    cn[3]: \"online asynchronous\",\n",
    "    cn[4]: \"TR 5:00pm – 6:15pm\"\n",
    "}\n",
    "x = input(\"Enter course number\")\n",
    "if x in course_name:\n",
    "    print(f'The course details are: Course Name: {course_name[x]} Instructor: {instructor[x]} Class times: {times[x]}')\n",
    "else:\n",
    "    print(f'{x} is an invalid course number')"
   ]
  },
  {
   "cell_type": "code",
   "execution_count": 4,
   "id": "ccf866bf-98fa-4183-b0e6-4ff5a419f61a",
   "metadata": {},
   "outputs": [
    {
     "name": "stdout",
     "output_type": "stream",
     "text": [
      "The total sales is: $700.00\n",
      "The minimum sales is: $100.00\n",
      "The maximum sales is: $100.00\n"
     ]
    }
   ],
   "source": [
    "# Task 3\n",
    "dow = (\"Sunday\",\"Monday\", \"Tuesday\", \"Wednesday\", \"Thursday\", \"Friday\", \"Saturday\")\n",
    "sales = []  \n",
    "i = 0\n",
    "while i < len(dow):\n",
    "    a = float(input(f'Enter the sales for {dow[i]}:'))\n",
    "    if a >= 0:\n",
    "        sales.append(a)\n",
    "        i += 1\n",
    "    else:\n",
    "        print(f'Input was invalid. Re-enter the sales for {dow[i]}:')\n",
    "total_sales = \"{:,.2f}\".format(sum(sales))  \n",
    "min_sales = \"{:,.2f}\".format(min(sales))    \n",
    "max_sales = \"{:,.2f}\".format(max(sales))    \n",
    "print(f'The total sales is: ${total_sales}')\n",
    "print(f'The minimum sales is: ${min_sales}')\n",
    "print(f'The maximum sales is: ${max_sales}')"
   ]
  },
  {
   "cell_type": "code",
   "execution_count": 5,
   "id": "94c18208-3821-47cc-b7d8-25cf3f48740a",
   "metadata": {},
   "outputs": [
    {
     "name": "stdout",
     "output_type": "stream",
     "text": [
      "....-. -..... .--.....--..-. .--.-... ....-..-----.-- -.....-. .--.....-- .--.-... -..... --.-..-....-..----...--..\n"
     ]
    }
   ],
   "source": [
    "#Task 4\n",
    "morse_code = ({\n",
    "    ' ': ' ', ',': '--.--', '.': '.-.-.-', '?': '..--..', '0':'-----', '1':'.----', '2':'..---', '3':'...--',\n",
    "    '4':'....-','5':'.....', '6':'-....','7':'--....', '8':'---..','9':'----.', \n",
    "    'A':'.-', 'B':'-...', 'C':'-.-.', 'D':'-..', 'E':'.', 'F':'..-.',\n",
    "    'G':'--.', 'H':'....', 'I':'..', 'J':'.---', 'K':'-.-', 'L':'.-..', \n",
    "    'M':'--', 'N':'-.', 'O':'---', 'P': '.---.', \n",
    "    'Q':'--.-', 'R':'.-.', 'S':'...', 'T':'-', 'U':'..-', \n",
    "    'V':'...-', 'W':'.--', 'X':'-..-', 'Y':'-.--', 'Z':'--..'})\n",
    "def morse_code_generator(x):\n",
    "    morse = []\n",
    "    for y in x:\n",
    "        if y.upper() in morse_code:\n",
    "            morse.append(morse_code[y.upper()])\n",
    "        else: \n",
    "            continue\n",
    "    return ''.join(morse)\n",
    "x = input(\"Enter the string to be converted to Morse code: \")\n",
    "print(morse_code_generator(x))\n",
    "\n",
    "        \n",
    "    \n",
    "    "
   ]
  },
  {
   "cell_type": "code",
   "execution_count": null,
   "id": "cd765405-24de-4893-81c2-2c4045a50119",
   "metadata": {},
   "outputs": [],
   "source": []
  }
 ],
 "metadata": {
  "kernelspec": {
   "display_name": "Python 3 (ipykernel)",
   "language": "python",
   "name": "python3"
  },
  "language_info": {
   "codemirror_mode": {
    "name": "ipython",
    "version": 3
   },
   "file_extension": ".py",
   "mimetype": "text/x-python",
   "name": "python",
   "nbconvert_exporter": "python",
   "pygments_lexer": "ipython3",
   "version": "3.11.5"
  }
 },
 "nbformat": 4,
 "nbformat_minor": 5
}
